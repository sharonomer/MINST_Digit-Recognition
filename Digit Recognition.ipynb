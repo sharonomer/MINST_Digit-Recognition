{
 "cells": [
  {
   "cell_type": "markdown",
   "metadata": {},
   "source": [
    "## Importing libraries and MNIST data"
   ]
  },
  {
   "cell_type": "code",
   "execution_count": 1,
   "metadata": {},
   "outputs": [],
   "source": [
    "import numpy as np\n",
    "import pandas as pd\n",
    "import matplotlib.pyplot as plt\n",
    "\n",
    "from keras.datasets import mnist\n",
    "from keras.models import Sequential\n",
    "from keras.layers import Dense, Dropout, Flatten\n",
    "from keras.layers.convolutional import Convolution2D, MaxPooling2D\n",
    "from keras.utils import to_categorical\n",
    "from keras import backend as K"
   ]
  },
  {
   "cell_type": "markdown",
   "metadata": {},
   "source": [
    "#### Loading the dataset directly from keras"
   ]
  },
  {
   "cell_type": "code",
   "execution_count": 2,
   "metadata": {},
   "outputs": [],
   "source": [
    "(x_train, y_train), (x_test, y_test) = mnist.load_data()"
   ]
  },
  {
   "cell_type": "code",
   "execution_count": 3,
   "metadata": {},
   "outputs": [
    {
     "data": {
      "image/png": "[encoded data removed]",
      "text/plain": [
       "<Figure size 432x288 with 6 Axes>"
      ]
     },
     "metadata": {
      "needs_background": "light"
     },
     "output_type": "display_data"
    }
   ],
   "source": [
    "# checking examples:\n",
    "for i in range(6):\n",
    "    plt.subplot(int('23' + str(i+1)))\n",
    "    plt.imshow(x_train[i], cmap=plt.get_cmap('gray'))"
   ]
  },
  {
   "cell_type": "markdown",
   "metadata": {},
   "source": [
    "## Preprocessing and normalizing the data"
   ]
  },
  {
   "cell_type": "code",
   "execution_count": 4,
   "metadata": {},
   "outputs": [],
   "source": [
    "# reshape format [samples][width][height][channels]\n",
    "x_train = x_train.reshape(x_train.shape[0], 28, 28, 1).astype('float32')\n",
    "x_test = x_test.reshape(x_test.shape[0], 28, 28, 1).astype('float32')\n",
    "\n",
    "# converting a class vector (integers) to binary class matrix\n",
    "y_train = to_categorical(y_train)\n",
    "y_test = to_categorical(y_test)\n",
    "\n",
    "# normalizing inputs\n",
    "x_train = x_train /255\n",
    "x_test = x_test /255"
   ]
  },
  {
   "cell_type": "markdown",
   "metadata": {},
   "source": [
    "## Creating the model"
   ]
  },
  {
   "cell_type": "code",
   "execution_count": 5,
   "metadata": {},
   "outputs": [],
   "source": [
    "# defining a Convolutional Neural Network model:\n",
    "def create_model():\n",
    "    num_classes = 10\n",
    "    img_rows, img_cols = 28, 28\n",
    "    model = Sequential()\n",
    "    model.add(Convolution2D(32, kernel_size=(3, 3), activation='relu', input_shape=(img_rows, img_cols, 1)))\n",
    "    model.add(Convolution2D(64, (3, 3), activation='relu'))\n",
    "    model.add(MaxPooling2D(pool_size=(2, 2)))\n",
    "    model.add(Dropout(0.25))\n",
    "    model.add(Flatten())\n",
    "    model.add(Dense(256, activation='relu'))\n",
    "    model.add(Dropout(0.5))\n",
    "    model.add(Dense(num_classes, activation='softmax'))\n",
    "    model.compile(loss='categorical_crossentropy', optimizer='adam', metrics=['accuracy'])\n",
    "    return model\n",
    "\n",
    "# # building model:\n",
    "model = create_model()"
   ]
  },
  {
   "cell_type": "markdown",
   "metadata": {},
   "source": [
    "## Training the model"
   ]
  },
  {
   "cell_type": "code",
   "execution_count": 6,
   "metadata": {},
   "outputs": [
    {
     "name": "stdout",
     "output_type": "stream",
     "text": [
      "Epoch 1/10\n",
      "300/300 - 55s - loss: 0.2201 - accuracy: 0.9329 - val_loss: 0.0478 - val_accuracy: 0.9840\n",
      "Epoch 2/10\n",
      "300/300 - 53s - loss: 0.0673 - accuracy: 0.9798 - val_loss: 0.0349 - val_accuracy: 0.9884\n",
      "Epoch 3/10\n",
      "300/300 - 54s - loss: 0.0490 - accuracy: 0.9849 - val_loss: 0.0316 - val_accuracy: 0.9896\n",
      "Epoch 4/10\n",
      "300/300 - 54s - loss: 0.0397 - accuracy: 0.9877 - val_loss: 0.0285 - val_accuracy: 0.9896\n",
      "Epoch 5/10\n",
      "300/300 - 53s - loss: 0.0311 - accuracy: 0.9902 - val_loss: 0.0248 - val_accuracy: 0.9917\n",
      "Epoch 6/10\n",
      "300/300 - 53s - loss: 0.0271 - accuracy: 0.9913 - val_loss: 0.0309 - val_accuracy: 0.9895\n",
      "Epoch 7/10\n",
      "300/300 - 53s - loss: 0.0244 - accuracy: 0.9922 - val_loss: 0.0309 - val_accuracy: 0.9911\n",
      "Epoch 8/10\n",
      "300/300 - 53s - loss: 0.0226 - accuracy: 0.9924 - val_loss: 0.0279 - val_accuracy: 0.9913\n",
      "Epoch 9/10\n",
      "300/300 - 53s - loss: 0.0190 - accuracy: 0.9937 - val_loss: 0.0244 - val_accuracy: 0.9923\n",
      "Epoch 10/10\n",
      "300/300 - 53s - loss: 0.0163 - accuracy: 0.9942 - val_loss: 0.0250 - val_accuracy: 0.9926\n",
      "Training done\n",
      "Model saved\n"
     ]
    }
   ],
   "source": [
    "model.fit(x_train, y_train, validation_data=(x_test, y_test), epochs=10, batch_size=200, verbose=2)\n",
    "print(\"Training done\")\n",
    "\n",
    "# saving the model:\n",
    "model.save('model.h5')\n",
    "print(\"Model saved\")"
   ]
  },
  {
   "cell_type": "markdown",
   "metadata": {},
   "source": [
    "## Evaluating the model"
   ]
  },
  {
   "cell_type": "code",
   "execution_count": 7,
   "metadata": {},
   "outputs": [
    {
     "name": "stdout",
     "output_type": "stream",
     "text": [
      "CNN Error: 0.74%\n"
     ]
    }
   ],
   "source": [
    "scores = model.evaluate(x_test, y_test, verbose=0)\n",
    "print(\"CNN Error: %.2f%%\" % (100 - scores[1]*100))"
   ]
  }
 ],
 "metadata": {
  "kernelspec": {
   "display_name": "Python 3",
   "language": "python",
   "name": "python3"
  },
  "language_info": {
   "codemirror_mode": {
    "name": "ipython",
    "version": 3
   },
   "file_extension": ".py",
   "mimetype": "text/x-python",
   "name": "python",
   "nbconvert_exporter": "python",
   "pygments_lexer": "ipython3",
   "version": "3.8.3"
  }
 },
 "nbformat": 4,
 "nbformat_minor": 4
}
